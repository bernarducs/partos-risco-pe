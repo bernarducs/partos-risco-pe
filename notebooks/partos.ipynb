{
 "cells": [
  {
   "attachments": {},
   "cell_type": "markdown",
   "metadata": {},
   "source": [
    "### Tabelas de partos para dashboard"
   ]
  },
  {
   "attachments": {},
   "cell_type": "markdown",
   "metadata": {},
   "source": [
    "#### Libs e importando os dados"
   ]
  },
  {
   "cell_type": "code",
   "execution_count": 1,
   "metadata": {},
   "outputs": [],
   "source": [
    "GRUPO_PROCED = {\n",
    "    'Normal/Cesário': ['0310010039', '0310010055', '0411010034', '0411010042'],\n",
    "    'De Risco': ['0310010047', '0411010026']\n",
    "}"
   ]
  },
  {
   "cell_type": "code",
   "execution_count": 38,
   "metadata": {},
   "outputs": [
    {
     "name": "stdout",
     "output_type": "stream",
     "text": [
      "<class 'pandas.core.frame.DataFrame'>\n",
      "Index: 83797 entries, 2622102264276 to 2622109033346\n",
      "Data columns (total 16 columns):\n",
      " #   Column     Non-Null Count  Dtype \n",
      "---  ------     --------------  ----- \n",
      " 0   GESTAO     83797 non-null  int32 \n",
      " 1   MUNIC_RES  83797 non-null  int32 \n",
      " 2   MUNIC_MOV  83797 non-null  int32 \n",
      " 3   PROC_REA   83797 non-null  object\n",
      " 4   ANO_CMPT   83797 non-null  int32 \n",
      " 5   MES_CMPT   83797 non-null  int32 \n",
      " 6   NASC       83797 non-null  object\n",
      " 7   SEXO       83797 non-null  int32 \n",
      " 8   DT_INTER   83797 non-null  object\n",
      " 9   DT_SAIDA   83797 non-null  object\n",
      " 10  IDADE      83797 non-null  int32 \n",
      " 11  MORTE      83797 non-null  object\n",
      " 12  CNES       83797 non-null  object\n",
      " 13  RACA_COR   83797 non-null  int32 \n",
      " 14  MARCA_UTI  83797 non-null  object\n",
      " 15  MARCA_UCI  83797 non-null  object\n",
      "dtypes: int32(8), object(8)\n",
      "memory usage: 8.3+ MB\n"
     ]
    }
   ],
   "source": [
    "import numpy as np\n",
    "import pandas as pd\n",
    "\n",
    "df = pd.read_parquet('../app/datasets/outputs/partos_pe.parquet.gzip')\n",
    "df.info()"
   ]
  },
  {
   "cell_type": "code",
   "execution_count": 3,
   "metadata": {},
   "outputs": [
    {
     "name": "stdout",
     "output_type": "stream",
     "text": [
      "<class 'pandas.core.frame.DataFrame'>\n",
      "RangeIndex: 185 entries, 0 to 184\n",
      "Data columns (total 7 columns):\n",
      " #   Column     Non-Null Count  Dtype \n",
      "---  ------     --------------  ----- \n",
      " 0   codmunres  185 non-null    int32 \n",
      " 1   municipio  185 non-null    object\n",
      " 2   cod_geres  185 non-null    int32 \n",
      " 3   geres      185 non-null    object\n",
      " 4   muncoddv   185 non-null    int32 \n",
      " 5   geresnome  185 non-null    object\n",
      " 6   microreg   85 non-null     object\n",
      "dtypes: int32(3), object(4)\n",
      "memory usage: 8.1+ KB\n"
     ]
    }
   ],
   "source": [
    "df_geres = pd.read_parquet('../app/datasets/outputs/localidade_pe.parquet.gzip')\n",
    "df_geres.info()"
   ]
  },
  {
   "cell_type": "code",
   "execution_count": 4,
   "metadata": {},
   "outputs": [
    {
     "data": {
      "text/html": [
       "<div>\n",
       "<style scoped>\n",
       "    .dataframe tbody tr th:only-of-type {\n",
       "        vertical-align: middle;\n",
       "    }\n",
       "\n",
       "    .dataframe tbody tr th {\n",
       "        vertical-align: top;\n",
       "    }\n",
       "\n",
       "    .dataframe thead th {\n",
       "        text-align: right;\n",
       "    }\n",
       "</style>\n",
       "<table border=\"1\" class=\"dataframe\">\n",
       "  <thead>\n",
       "    <tr style=\"text-align: right;\">\n",
       "      <th></th>\n",
       "      <th>codmunres</th>\n",
       "      <th>municipio</th>\n",
       "      <th>cod_geres</th>\n",
       "      <th>geres</th>\n",
       "      <th>muncoddv</th>\n",
       "      <th>geresnome</th>\n",
       "      <th>microreg</th>\n",
       "    </tr>\n",
       "  </thead>\n",
       "  <tbody>\n",
       "    <tr>\n",
       "      <th>0</th>\n",
       "      <td>260005</td>\n",
       "      <td>Abreu e Lima</td>\n",
       "      <td>2601</td>\n",
       "      <td>I GERES</td>\n",
       "      <td>2600054</td>\n",
       "      <td>I GERES - Recife</td>\n",
       "      <td>MICRO I</td>\n",
       "    </tr>\n",
       "    <tr>\n",
       "      <th>1</th>\n",
       "      <td>260105</td>\n",
       "      <td>Araçoiaba</td>\n",
       "      <td>2601</td>\n",
       "      <td>I GERES</td>\n",
       "      <td>2601052</td>\n",
       "      <td>I GERES - Recife</td>\n",
       "      <td>MICRO I</td>\n",
       "    </tr>\n",
       "    <tr>\n",
       "      <th>2</th>\n",
       "      <td>260290</td>\n",
       "      <td>Cabo de Santo Agostinho</td>\n",
       "      <td>2601</td>\n",
       "      <td>I GERES</td>\n",
       "      <td>2602902</td>\n",
       "      <td>I GERES - Recife</td>\n",
       "      <td>MICRO III</td>\n",
       "    </tr>\n",
       "    <tr>\n",
       "      <th>3</th>\n",
       "      <td>260345</td>\n",
       "      <td>Camaragibe</td>\n",
       "      <td>2601</td>\n",
       "      <td>I GERES</td>\n",
       "      <td>2603454</td>\n",
       "      <td>I GERES - Recife</td>\n",
       "      <td>MICRO II</td>\n",
       "    </tr>\n",
       "    <tr>\n",
       "      <th>4</th>\n",
       "      <td>260440</td>\n",
       "      <td>Chã de Alegria</td>\n",
       "      <td>2601</td>\n",
       "      <td>I GERES</td>\n",
       "      <td>2604403</td>\n",
       "      <td>I GERES - Recife</td>\n",
       "      <td>MICRO II</td>\n",
       "    </tr>\n",
       "  </tbody>\n",
       "</table>\n",
       "</div>"
      ],
      "text/plain": [
       "   codmunres                municipio  cod_geres    geres  muncoddv  \\\n",
       "0     260005             Abreu e Lima       2601  I GERES   2600054   \n",
       "1     260105                Araçoiaba       2601  I GERES   2601052   \n",
       "2     260290  Cabo de Santo Agostinho       2601  I GERES   2602902   \n",
       "3     260345               Camaragibe       2601  I GERES   2603454   \n",
       "4     260440           Chã de Alegria       2601  I GERES   2604403   \n",
       "\n",
       "          geresnome   microreg  \n",
       "0  I GERES - Recife    MICRO I  \n",
       "1  I GERES - Recife    MICRO I  \n",
       "2  I GERES - Recife  MICRO III  \n",
       "3  I GERES - Recife   MICRO II  \n",
       "4  I GERES - Recife   MICRO II  "
      ]
     },
     "execution_count": 4,
     "metadata": {},
     "output_type": "execute_result"
    }
   ],
   "source": [
    "df_geres.head()"
   ]
  },
  {
   "cell_type": "code",
   "execution_count": 5,
   "metadata": {},
   "outputs": [
    {
     "data": {
      "text/html": [
       "<div>\n",
       "<style scoped>\n",
       "    .dataframe tbody tr th:only-of-type {\n",
       "        vertical-align: middle;\n",
       "    }\n",
       "\n",
       "    .dataframe tbody tr th {\n",
       "        vertical-align: top;\n",
       "    }\n",
       "\n",
       "    .dataframe thead th {\n",
       "        text-align: right;\n",
       "    }\n",
       "</style>\n",
       "<table border=\"1\" class=\"dataframe\">\n",
       "  <thead>\n",
       "    <tr style=\"text-align: right;\">\n",
       "      <th></th>\n",
       "      <th>TIPO_PARTO</th>\n",
       "      <th>PROC_REA</th>\n",
       "    </tr>\n",
       "  </thead>\n",
       "  <tbody>\n",
       "    <tr>\n",
       "      <th>0</th>\n",
       "      <td>Normal/Cesário</td>\n",
       "      <td>0310010039</td>\n",
       "    </tr>\n",
       "    <tr>\n",
       "      <th>1</th>\n",
       "      <td>De Risco</td>\n",
       "      <td>0310010047</td>\n",
       "    </tr>\n",
       "    <tr>\n",
       "      <th>2</th>\n",
       "      <td>Normal/Cesário</td>\n",
       "      <td>0310010055</td>\n",
       "    </tr>\n",
       "    <tr>\n",
       "      <th>3</th>\n",
       "      <td>De Risco</td>\n",
       "      <td>0411010026</td>\n",
       "    </tr>\n",
       "    <tr>\n",
       "      <th>4</th>\n",
       "      <td>Normal/Cesário</td>\n",
       "      <td>0411010034</td>\n",
       "    </tr>\n",
       "    <tr>\n",
       "      <th>5</th>\n",
       "      <td>Normal/Cesário</td>\n",
       "      <td>0411010042</td>\n",
       "    </tr>\n",
       "  </tbody>\n",
       "</table>\n",
       "</div>"
      ],
      "text/plain": [
       "       TIPO_PARTO    PROC_REA\n",
       "0  Normal/Cesário  0310010039\n",
       "1        De Risco  0310010047\n",
       "2  Normal/Cesário  0310010055\n",
       "3        De Risco  0411010026\n",
       "4  Normal/Cesário  0411010034\n",
       "5  Normal/Cesário  0411010042"
      ]
     },
     "execution_count": 5,
     "metadata": {},
     "output_type": "execute_result"
    }
   ],
   "source": [
    "df_tipo_parto = pd.DataFrame.from_dict(GRUPO_PROCED, orient='index').\\\n",
    "    T.\\\n",
    "    stack().\\\n",
    "    reset_index().\\\n",
    "    rename(columns={'level_1': 'TIPO_PARTO', 0: 'PROC_REA'}).\\\n",
    "    drop('level_0', axis=1)\n",
    "\n",
    "df_tipo_parto"
   ]
  },
  {
   "cell_type": "code",
   "execution_count": 6,
   "metadata": {},
   "outputs": [],
   "source": [
    "df_partos = df.reset_index().\\\n",
    "    merge(df_geres[['codmunres', 'municipio', 'geresnome']], how='left', left_on='MUNIC_RES', right_on='codmunres').\\\n",
    "    drop('codmunres', axis=1).\\\n",
    "    rename(columns={'geresnome': 'GERES_RES', 'municipio': 'NM_MUNIC_RES'}).\\\n",
    "    merge(df_geres[['codmunres', 'geresnome']], how='left', left_on='MUNIC_MOV', right_on='codmunres').\\\n",
    "    drop('codmunres', axis=1).\\\n",
    "    rename(columns={'geresnome': 'GERES_MOV', 'municipio': 'NM_MUNIC_MOV'}).\\\n",
    "    merge(df_tipo_parto, how='left', on='PROC_REA')"
   ]
  },
  {
   "attachments": {},
   "cell_type": "markdown",
   "metadata": {},
   "source": [
    "#### Export"
   ]
  },
  {
   "cell_type": "code",
   "execution_count": 7,
   "metadata": {},
   "outputs": [],
   "source": [
    "df_partos[\n",
    "        [\n",
    "            'N_AIH', \n",
    "            'GESTAO', \n",
    "            'MUNIC_RES', \n",
    "            'MUNIC_MOV', \n",
    "            'PROC_REA', \n",
    "            'NM_MUNIC_RES', \n",
    "            'GERES_RES', \n",
    "            'GERES_MOV', \n",
    "            'TIPO_PARTO'\n",
    "            ]\n",
    "        ].to_parquet(\n",
    "            '../app/datasets/outputs/partos_pe_reduz.parquet.gzip',\n",
    "            index=False\n",
    "            )"
   ]
  },
  {
   "attachments": {},
   "cell_type": "markdown",
   "metadata": {},
   "source": [
    "#### Tabela Geres internação para Geres residência"
   ]
  },
  {
   "cell_type": "code",
   "execution_count": 8,
   "metadata": {},
   "outputs": [
    {
     "data": {
      "text/html": [
       "<div>\n",
       "<style scoped>\n",
       "    .dataframe tbody tr th:only-of-type {\n",
       "        vertical-align: middle;\n",
       "    }\n",
       "\n",
       "    .dataframe tbody tr th {\n",
       "        vertical-align: top;\n",
       "    }\n",
       "\n",
       "    .dataframe thead th {\n",
       "        text-align: right;\n",
       "    }\n",
       "</style>\n",
       "<table border=\"1\" class=\"dataframe\">\n",
       "  <thead>\n",
       "    <tr style=\"text-align: right;\">\n",
       "      <th>GERES_RES</th>\n",
       "      <th>GERES_MOV</th>\n",
       "      <th>I GERES - Recife</th>\n",
       "      <th>III GERES - Palmares</th>\n",
       "      <th>XII GERES - Goiana</th>\n",
       "      <th>Total</th>\n",
       "    </tr>\n",
       "  </thead>\n",
       "  <tbody>\n",
       "    <tr>\n",
       "      <th>0</th>\n",
       "      <td>I GERES - Recife</td>\n",
       "      <td>56</td>\n",
       "      <td>10</td>\n",
       "      <td>1</td>\n",
       "      <td>67</td>\n",
       "    </tr>\n",
       "    <tr>\n",
       "      <th>1</th>\n",
       "      <td>Total</td>\n",
       "      <td>56</td>\n",
       "      <td>10</td>\n",
       "      <td>1</td>\n",
       "      <td>67</td>\n",
       "    </tr>\n",
       "  </tbody>\n",
       "</table>\n",
       "</div>"
      ],
      "text/plain": [
       "GERES_RES         GERES_MOV  I GERES - Recife  III GERES - Palmares  \\\n",
       "0          I GERES - Recife                56                    10   \n",
       "1                     Total                56                    10   \n",
       "\n",
       "GERES_RES  XII GERES - Goiana  Total  \n",
       "0                           1     67  \n",
       "1                           1     67  "
      ]
     },
     "execution_count": 8,
     "metadata": {},
     "output_type": "execute_result"
    }
   ],
   "source": [
    "df_partos.\\\n",
    "    query('GESTAO == 1 and PROC_REA == [\"0310010047\", \"0411010026\"]').\\\n",
    "    groupby(['GERES_MOV', 'GERES_RES'], as_index=False)['N_AIH'].\\\n",
    "    count().\\\n",
    "    pivot_table(index='GERES_MOV', columns='GERES_RES', values='N_AIH', aggfunc='sum', fill_value=0, margins=True,margins_name='Total').reset_index()"
   ]
  },
  {
   "attachments": {},
   "cell_type": "markdown",
   "metadata": {},
   "source": [
    "#### Tabela para Mapa"
   ]
  },
  {
   "cell_type": "code",
   "execution_count": 180,
   "metadata": {},
   "outputs": [],
   "source": [
    "geres_selecionada = ['II GERES - Limoeiro']"
   ]
  },
  {
   "cell_type": "code",
   "execution_count": 10,
   "metadata": {},
   "outputs": [
    {
     "data": {
      "text/html": [
       "<div>\n",
       "<style scoped>\n",
       "    .dataframe tbody tr th:only-of-type {\n",
       "        vertical-align: middle;\n",
       "    }\n",
       "\n",
       "    .dataframe tbody tr th {\n",
       "        vertical-align: top;\n",
       "    }\n",
       "\n",
       "    .dataframe thead th {\n",
       "        text-align: right;\n",
       "    }\n",
       "</style>\n",
       "<table border=\"1\" class=\"dataframe\">\n",
       "  <thead>\n",
       "    <tr style=\"text-align: right;\">\n",
       "      <th></th>\n",
       "      <th>GERES_RES</th>\n",
       "      <th>MUNIC_RES</th>\n",
       "      <th>NM_MUNIC_RES</th>\n",
       "      <th>N_AIH</th>\n",
       "    </tr>\n",
       "  </thead>\n",
       "  <tbody>\n",
       "    <tr>\n",
       "      <th>0</th>\n",
       "      <td>I GERES - Recife</td>\n",
       "      <td>261160</td>\n",
       "      <td>Recife</td>\n",
       "      <td>10068</td>\n",
       "    </tr>\n",
       "  </tbody>\n",
       "</table>\n",
       "</div>"
      ],
      "text/plain": [
       "          GERES_RES  MUNIC_RES NM_MUNIC_RES  N_AIH\n",
       "0  I GERES - Recife     261160       Recife  10068"
      ]
     },
     "execution_count": 10,
     "metadata": {},
     "output_type": "execute_result"
    }
   ],
   "source": [
    "df_partos.\\\n",
    "    query(\"GERES_MOV == @geres_selecionada and MUNIC_RES == 261160\").\\\n",
    "    groupby(['GERES_RES', 'MUNIC_RES', 'NM_MUNIC_RES'], as_index=False)['N_AIH'].\\\n",
    "    count()"
   ]
  },
  {
   "attachments": {},
   "cell_type": "markdown",
   "metadata": {},
   "source": [
    "#### Tabela de partos por residentes"
   ]
  },
  {
   "cell_type": "code",
   "execution_count": 154,
   "metadata": {},
   "outputs": [],
   "source": [
    "partos_resid_geres_total = df_partos.\\\n",
    "            groupby(['GERES_RES'], as_index=False)['N_AIH'].\\\n",
    "            count()\n",
    "\n",
    "partos_munic_propria_geres = df_partos.\\\n",
    "            groupby(['GERES_MOV', 'GERES_RES'], as_index=False)['N_AIH'].\\\n",
    "            count().\\\n",
    "            assign(MESMA_GERES=(lambda x: x['GERES_MOV'] == x['GERES_RES'])).\\\n",
    "            query('MESMA_GERES == True').\\\n",
    "            drop(['MESMA_GERES', 'GERES_MOV'], axis=1)"
   ]
  },
  {
   "cell_type": "code",
   "execution_count": 160,
   "metadata": {},
   "outputs": [
    {
     "data": {
      "text/html": [
       "<div>\n",
       "<style scoped>\n",
       "    .dataframe tbody tr th:only-of-type {\n",
       "        vertical-align: middle;\n",
       "    }\n",
       "\n",
       "    .dataframe tbody tr th {\n",
       "        vertical-align: top;\n",
       "    }\n",
       "\n",
       "    .dataframe thead th {\n",
       "        text-align: right;\n",
       "    }\n",
       "</style>\n",
       "<table border=\"1\" class=\"dataframe\">\n",
       "  <thead>\n",
       "    <tr style=\"text-align: right;\">\n",
       "      <th></th>\n",
       "      <th>GERES_RES</th>\n",
       "      <th>N_AIH_x</th>\n",
       "      <th>N_AIH_y</th>\n",
       "      <th>percent</th>\n",
       "    </tr>\n",
       "  </thead>\n",
       "  <tbody>\n",
       "    <tr>\n",
       "      <th>11</th>\n",
       "      <td>XII GERES - Goiana</td>\n",
       "      <td>2637</td>\n",
       "      <td>818</td>\n",
       "      <td>0.310201</td>\n",
       "    </tr>\n",
       "    <tr>\n",
       "      <th>1</th>\n",
       "      <td>II GERES - Limoeiro</td>\n",
       "      <td>4770</td>\n",
       "      <td>2583</td>\n",
       "      <td>0.541509</td>\n",
       "    </tr>\n",
       "    <tr>\n",
       "      <th>2</th>\n",
       "      <td>III GERES - Palmares</td>\n",
       "      <td>5220</td>\n",
       "      <td>2886</td>\n",
       "      <td>0.552874</td>\n",
       "    </tr>\n",
       "    <tr>\n",
       "      <th>6</th>\n",
       "      <td>VI GERES - Arcoverde</td>\n",
       "      <td>4368</td>\n",
       "      <td>2941</td>\n",
       "      <td>0.673306</td>\n",
       "    </tr>\n",
       "    <tr>\n",
       "      <th>5</th>\n",
       "      <td>V GERES - Garanhuns</td>\n",
       "      <td>5976</td>\n",
       "      <td>4383</td>\n",
       "      <td>0.733434</td>\n",
       "    </tr>\n",
       "    <tr>\n",
       "      <th>10</th>\n",
       "      <td>XI GERES - Serra Talhada</td>\n",
       "      <td>2625</td>\n",
       "      <td>1964</td>\n",
       "      <td>0.748190</td>\n",
       "    </tr>\n",
       "    <tr>\n",
       "      <th>3</th>\n",
       "      <td>IV GERES - Caruaru</td>\n",
       "      <td>13293</td>\n",
       "      <td>10065</td>\n",
       "      <td>0.757165</td>\n",
       "    </tr>\n",
       "    <tr>\n",
       "      <th>9</th>\n",
       "      <td>X GERES - Afogados da Ingazeira</td>\n",
       "      <td>1669</td>\n",
       "      <td>1368</td>\n",
       "      <td>0.819652</td>\n",
       "    </tr>\n",
       "    <tr>\n",
       "      <th>4</th>\n",
       "      <td>IX GERES - Ouricuri</td>\n",
       "      <td>4406</td>\n",
       "      <td>4098</td>\n",
       "      <td>0.930095</td>\n",
       "    </tr>\n",
       "    <tr>\n",
       "      <th>7</th>\n",
       "      <td>VII GERES - Salgueiro</td>\n",
       "      <td>1903</td>\n",
       "      <td>1850</td>\n",
       "      <td>0.972149</td>\n",
       "    </tr>\n",
       "    <tr>\n",
       "      <th>8</th>\n",
       "      <td>VIII GERES - Petrolina</td>\n",
       "      <td>4857</td>\n",
       "      <td>4743</td>\n",
       "      <td>0.976529</td>\n",
       "    </tr>\n",
       "    <tr>\n",
       "      <th>0</th>\n",
       "      <td>I GERES - Recife</td>\n",
       "      <td>29586</td>\n",
       "      <td>29381</td>\n",
       "      <td>0.993071</td>\n",
       "    </tr>\n",
       "  </tbody>\n",
       "</table>\n",
       "</div>"
      ],
      "text/plain": [
       "                          GERES_RES  N_AIH_x  N_AIH_y   percent\n",
       "11               XII GERES - Goiana     2637      818  0.310201\n",
       "1               II GERES - Limoeiro     4770     2583  0.541509\n",
       "2              III GERES - Palmares     5220     2886  0.552874\n",
       "6              VI GERES - Arcoverde     4368     2941  0.673306\n",
       "5               V GERES - Garanhuns     5976     4383  0.733434\n",
       "10         XI GERES - Serra Talhada     2625     1964  0.748190\n",
       "3                IV GERES - Caruaru    13293    10065  0.757165\n",
       "9   X GERES - Afogados da Ingazeira     1669     1368  0.819652\n",
       "4               IX GERES - Ouricuri     4406     4098  0.930095\n",
       "7             VII GERES - Salgueiro     1903     1850  0.972149\n",
       "8            VIII GERES - Petrolina     4857     4743  0.976529\n",
       "0                  I GERES - Recife    29586    29381  0.993071"
      ]
     },
     "execution_count": 160,
     "metadata": {},
     "output_type": "execute_result"
    }
   ],
   "source": [
    "partos_resid_geres_total.\\\n",
    "    merge(partos_munic_propria_geres, how='left', on='GERES_RES').\\\n",
    "    assign(percent=(lambda col: col['N_AIH_y'] / col['N_AIH_x'])).\\\n",
    "    sort_values('percent')"
   ]
  },
  {
   "cell_type": "code",
   "execution_count": 163,
   "metadata": {},
   "outputs": [
    {
     "data": {
      "text/plain": [
       "67080"
      ]
     },
     "execution_count": 163,
     "metadata": {},
     "output_type": "execute_result"
    }
   ],
   "source": [
    "partos_munic_propria_geres.sum(numeric_only=True).values[0]"
   ]
  },
  {
   "cell_type": "code",
   "execution_count": 153,
   "metadata": {},
   "outputs": [
    {
     "data": {
      "text/plain": [
       "'0.99%'"
      ]
     },
     "execution_count": 153,
     "metadata": {},
     "output_type": "execute_result"
    }
   ],
   "source": [
    "razao_munic_propria_geres = \\\n",
    "            partos_munic_propria_geres.sum(numeric_only=True).div(\n",
    "                partos_resid_geres_total.sum(numeric_only=True)\n",
    "            )\n",
    "'{:.2f}%'.format(razao_munic_propria_geres.values[0])"
   ]
  },
  {
   "attachments": {},
   "cell_type": "markdown",
   "metadata": {},
   "source": [
    "#### Tabela de partos por ocorrência"
   ]
  },
  {
   "cell_type": "code",
   "execution_count": 181,
   "metadata": {},
   "outputs": [
    {
     "data": {
      "text/html": [
       "<div>\n",
       "<style scoped>\n",
       "    .dataframe tbody tr th:only-of-type {\n",
       "        vertical-align: middle;\n",
       "    }\n",
       "\n",
       "    .dataframe tbody tr th {\n",
       "        vertical-align: top;\n",
       "    }\n",
       "\n",
       "    .dataframe thead th {\n",
       "        text-align: right;\n",
       "    }\n",
       "</style>\n",
       "<table border=\"1\" class=\"dataframe\">\n",
       "  <thead>\n",
       "    <tr style=\"text-align: right;\">\n",
       "      <th></th>\n",
       "      <th>GERES_MOV</th>\n",
       "      <th>N_AIH</th>\n",
       "    </tr>\n",
       "  </thead>\n",
       "  <tbody>\n",
       "    <tr>\n",
       "      <th>0</th>\n",
       "      <td>II GERES - Limoeiro</td>\n",
       "      <td>3619</td>\n",
       "    </tr>\n",
       "  </tbody>\n",
       "</table>\n",
       "</div>"
      ],
      "text/plain": [
       "             GERES_MOV  N_AIH\n",
       "0  II GERES - Limoeiro   3619"
      ]
     },
     "execution_count": 181,
     "metadata": {},
     "output_type": "execute_result"
    }
   ],
   "source": [
    "df_partos.\\\n",
    "            query('GERES_MOV == @geres_selecionada').\\\n",
    "            groupby(['GERES_MOV'], as_index=False)['N_AIH'].\\\n",
    "            count()\n",
    "\n"
   ]
  },
  {
   "cell_type": "code",
   "execution_count": 182,
   "metadata": {},
   "outputs": [
    {
     "data": {
      "text/html": [
       "<div>\n",
       "<style scoped>\n",
       "    .dataframe tbody tr th:only-of-type {\n",
       "        vertical-align: middle;\n",
       "    }\n",
       "\n",
       "    .dataframe tbody tr th {\n",
       "        vertical-align: top;\n",
       "    }\n",
       "\n",
       "    .dataframe thead th {\n",
       "        text-align: right;\n",
       "    }\n",
       "</style>\n",
       "<table border=\"1\" class=\"dataframe\">\n",
       "  <thead>\n",
       "    <tr style=\"text-align: right;\">\n",
       "      <th></th>\n",
       "      <th>COUNT</th>\n",
       "    </tr>\n",
       "  </thead>\n",
       "  <tbody>\n",
       "    <tr>\n",
       "      <th>N_AIH</th>\n",
       "      <td>1028</td>\n",
       "    </tr>\n",
       "  </tbody>\n",
       "</table>\n",
       "</div>"
      ],
      "text/plain": [
       "       COUNT\n",
       "N_AIH   1028"
      ]
     },
     "execution_count": 182,
     "metadata": {},
     "output_type": "execute_result"
    }
   ],
   "source": [
    "df_partos.\\\n",
    "            query('GERES_MOV == @geres_selecionada').\\\n",
    "            groupby(['GERES_MOV', 'GERES_RES'], as_index=False)['N_AIH'].\\\n",
    "            count().\\\n",
    "            assign(MESMA_GERES=(lambda x: x['GERES_MOV'] == x['GERES_RES'])).\\\n",
    "            query('MESMA_GERES == False').\\\n",
    "            drop(['MESMA_GERES', 'GERES_MOV'], axis=1).\\\n",
    "            sum(numeric_only=True).\\\n",
    "            to_frame().\\\n",
    "            rename(columns={0: 'COUNT'})"
   ]
  }
 ],
 "metadata": {
  "kernelspec": {
   "display_name": "ve",
   "language": "python",
   "name": "python3"
  },
  "language_info": {
   "codemirror_mode": {
    "name": "ipython",
    "version": 3
   },
   "file_extension": ".py",
   "mimetype": "text/x-python",
   "name": "python",
   "nbconvert_exporter": "python",
   "pygments_lexer": "ipython3",
   "version": "3.10.8"
  },
  "orig_nbformat": 4
 },
 "nbformat": 4,
 "nbformat_minor": 2
}
